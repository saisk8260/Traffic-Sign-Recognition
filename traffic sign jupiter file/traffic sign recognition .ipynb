{
 "cells": [
  {
   "cell_type": "code",
   "execution_count": 1,
   "id": "9d305065",
   "metadata": {},
   "outputs": [
    {
     "name": "stderr",
     "output_type": "stream",
     "text": [
      "ERROR: pip's dependency resolver does not currently take into account all the packages that are installed. This behaviour is the source of the following dependency conflicts.\n",
      "pydantic 1.10.8 requires typing-extensions>=4.2.0, but you have typing-extensions 3.7.4.3 which is incompatible.\n"
     ]
    },
    {
     "name": "stdout",
     "output_type": "stream",
     "text": [
      "Requirement already satisfied: tensorflow in c:\\users\\saiki\\anaconda3\\lib\\site-packages (2.6.0)\n",
      "Requirement already satisfied: keras in c:\\users\\saiki\\anaconda3\\lib\\site-packages (2.6.0)\n",
      "Requirement already satisfied: sklearn in c:\\users\\saiki\\anaconda3\\lib\\site-packages (0.0.post1)\n",
      "Requirement already satisfied: matplotlib in c:\\users\\saiki\\anaconda3\\lib\\site-packages (3.3.4)\n",
      "Requirement already satisfied: pandas in c:\\users\\saiki\\anaconda3\\lib\\site-packages (1.2.4)\n",
      "Requirement already satisfied: gtts in c:\\users\\saiki\\anaconda3\\lib\\site-packages (2.3.1)\n",
      "Requirement already satisfied: playsound in c:\\users\\saiki\\anaconda3\\lib\\site-packages (1.3.0)\n",
      "Requirement already satisfied: click<8.2,>=7.1 in c:\\users\\saiki\\anaconda3\\lib\\site-packages (from gtts) (8.1.3)\n",
      "Requirement already satisfied: requests<3,>=2.27 in c:\\users\\saiki\\anaconda3\\lib\\site-packages (from gtts) (2.28.2)\n",
      "Requirement already satisfied: colorama in c:\\users\\saiki\\anaconda3\\lib\\site-packages (from click<8.2,>=7.1->gtts) (0.4.6)\n",
      "Requirement already satisfied: charset-normalizer<4,>=2 in c:\\users\\saiki\\anaconda3\\lib\\site-packages (from requests<3,>=2.27->gtts) (3.0.1)\n",
      "Requirement already satisfied: idna<4,>=2.5 in c:\\users\\saiki\\anaconda3\\lib\\site-packages (from requests<3,>=2.27->gtts) (2.10)\n",
      "Requirement already satisfied: certifi>=2017.4.17 in c:\\users\\saiki\\anaconda3\\lib\\site-packages (from requests<3,>=2.27->gtts) (2020.12.5)\n",
      "Requirement already satisfied: urllib3<1.27,>=1.21.1 in c:\\users\\saiki\\anaconda3\\lib\\site-packages (from requests<3,>=2.27->gtts) (1.26.4)\n",
      "Requirement already satisfied: kiwisolver>=1.0.1 in c:\\users\\saiki\\anaconda3\\lib\\site-packages (from matplotlib) (1.3.1)\n",
      "Requirement already satisfied: pillow>=6.2.0 in c:\\users\\saiki\\anaconda3\\lib\\site-packages (from matplotlib) (8.2.0)\n",
      "Requirement already satisfied: numpy>=1.15 in c:\\users\\saiki\\anaconda3\\lib\\site-packages (from matplotlib) (1.19.5)\n",
      "Requirement already satisfied: cycler>=0.10 in c:\\users\\saiki\\anaconda3\\lib\\site-packages (from matplotlib) (0.10.0)\n",
      "Requirement already satisfied: pyparsing!=2.0.4,!=2.1.2,!=2.1.6,>=2.0.3 in c:\\users\\saiki\\anaconda3\\lib\\site-packages (from matplotlib) (2.4.7)\n",
      "Requirement already satisfied: python-dateutil>=2.1 in c:\\users\\saiki\\anaconda3\\lib\\site-packages (from matplotlib) (2.8.1)\n",
      "Requirement already satisfied: six in c:\\users\\saiki\\anaconda3\\lib\\site-packages (from cycler>=0.10->matplotlib) (1.15.0)\n",
      "Requirement already satisfied: pytz>=2017.3 in c:\\users\\saiki\\anaconda3\\lib\\site-packages (from pandas) (2021.1)\n",
      "Requirement already satisfied: termcolor~=1.1.0 in c:\\users\\saiki\\anaconda3\\lib\\site-packages (from tensorflow) (1.1.0)\n",
      "Requirement already satisfied: opt-einsum~=3.3.0 in c:\\users\\saiki\\anaconda3\\lib\\site-packages (from tensorflow) (3.3.0)\n",
      "Requirement already satisfied: h5py~=3.1.0 in c:\\users\\saiki\\anaconda3\\lib\\site-packages (from tensorflow) (3.1.0)\n",
      "Requirement already satisfied: absl-py~=0.10 in c:\\users\\saiki\\anaconda3\\lib\\site-packages (from tensorflow) (0.15.0)\n",
      "Requirement already satisfied: wheel~=0.35 in c:\\users\\saiki\\anaconda3\\lib\\site-packages (from tensorflow) (0.36.2)\n",
      "Requirement already satisfied: wrapt~=1.12.1 in c:\\users\\saiki\\anaconda3\\lib\\site-packages (from tensorflow) (1.12.1)\n",
      "Requirement already satisfied: tensorflow-estimator~=2.6 in c:\\users\\saiki\\anaconda3\\lib\\site-packages (from tensorflow) (2.6.0)\n",
      "Requirement already satisfied: tensorboard~=2.6 in c:\\users\\saiki\\anaconda3\\lib\\site-packages (from tensorflow) (2.7.0)\n",
      "Requirement already satisfied: protobuf>=3.9.2 in c:\\users\\saiki\\anaconda3\\lib\\site-packages (from tensorflow) (3.19.1)\n",
      "Requirement already satisfied: flatbuffers~=1.12.0 in c:\\users\\saiki\\anaconda3\\lib\\site-packages (from tensorflow) (1.12)\n",
      "Requirement already satisfied: gast==0.4.0 in c:\\users\\saiki\\anaconda3\\lib\\site-packages (from tensorflow) (0.4.0)\n",
      "Collecting typing-extensions~=3.7.4\n",
      "  Downloading typing_extensions-3.7.4.3-py3-none-any.whl (22 kB)\n",
      "Requirement already satisfied: astunparse~=1.6.3 in c:\\users\\saiki\\anaconda3\\lib\\site-packages (from tensorflow) (1.6.3)\n",
      "Requirement already satisfied: keras-preprocessing~=1.1.2 in c:\\users\\saiki\\anaconda3\\lib\\site-packages (from tensorflow) (1.1.2)\n",
      "Requirement already satisfied: grpcio<2.0,>=1.37.0 in c:\\users\\saiki\\anaconda3\\lib\\site-packages (from tensorflow) (1.41.1)\n",
      "Requirement already satisfied: google-pasta~=0.2 in c:\\users\\saiki\\anaconda3\\lib\\site-packages (from tensorflow) (0.2.0)\n",
      "Requirement already satisfied: clang~=5.0 in c:\\users\\saiki\\anaconda3\\lib\\site-packages (from tensorflow) (5.0)\n",
      "Requirement already satisfied: google-auth<3,>=1.6.3 in c:\\users\\saiki\\anaconda3\\lib\\site-packages (from tensorboard~=2.6->tensorflow) (2.3.2)\n",
      "Requirement already satisfied: tensorboard-data-server<0.7.0,>=0.6.0 in c:\\users\\saiki\\anaconda3\\lib\\site-packages (from tensorboard~=2.6->tensorflow) (0.6.1)\n",
      "Requirement already satisfied: werkzeug>=0.11.15 in c:\\users\\saiki\\anaconda3\\lib\\site-packages (from tensorboard~=2.6->tensorflow) (1.0.1)\n",
      "Requirement already satisfied: google-auth-oauthlib<0.5,>=0.4.1 in c:\\users\\saiki\\anaconda3\\lib\\site-packages (from tensorboard~=2.6->tensorflow) (0.4.6)\n",
      "Requirement already satisfied: tensorboard-plugin-wit>=1.6.0 in c:\\users\\saiki\\anaconda3\\lib\\site-packages (from tensorboard~=2.6->tensorflow) (1.8.0)\n",
      "Requirement already satisfied: markdown>=2.6.8 in c:\\users\\saiki\\anaconda3\\lib\\site-packages (from tensorboard~=2.6->tensorflow) (3.3.4)\n",
      "Requirement already satisfied: setuptools>=41.0.0 in c:\\users\\saiki\\anaconda3\\lib\\site-packages (from tensorboard~=2.6->tensorflow) (52.0.0.post20210125)\n",
      "Requirement already satisfied: rsa<5,>=3.1.4 in c:\\users\\saiki\\anaconda3\\lib\\site-packages (from google-auth<3,>=1.6.3->tensorboard~=2.6->tensorflow) (4.7.2)\n",
      "Requirement already satisfied: cachetools<5.0,>=2.0.0 in c:\\users\\saiki\\anaconda3\\lib\\site-packages (from google-auth<3,>=1.6.3->tensorboard~=2.6->tensorflow) (4.2.4)\n",
      "Requirement already satisfied: pyasn1-modules>=0.2.1 in c:\\users\\saiki\\anaconda3\\lib\\site-packages (from google-auth<3,>=1.6.3->tensorboard~=2.6->tensorflow) (0.2.8)\n",
      "Requirement already satisfied: requests-oauthlib>=0.7.0 in c:\\users\\saiki\\anaconda3\\lib\\site-packages (from google-auth-oauthlib<0.5,>=0.4.1->tensorboard~=2.6->tensorflow) (1.3.0)\n",
      "Requirement already satisfied: pyasn1<0.5.0,>=0.4.6 in c:\\users\\saiki\\anaconda3\\lib\\site-packages (from pyasn1-modules>=0.2.1->google-auth<3,>=1.6.3->tensorboard~=2.6->tensorflow) (0.4.8)\n",
      "Requirement already satisfied: oauthlib>=3.0.0 in c:\\users\\saiki\\anaconda3\\lib\\site-packages (from requests-oauthlib>=0.7.0->google-auth-oauthlib<0.5,>=0.4.1->tensorboard~=2.6->tensorflow) (3.1.1)\n",
      "Installing collected packages: typing-extensions\n",
      "  Attempting uninstall: typing-extensions\n",
      "    Found existing installation: typing-extensions 4.6.2\n",
      "    Uninstalling typing-extensions-4.6.2:\n",
      "      Successfully uninstalled typing-extensions-4.6.2\n",
      "Successfully installed typing-extensions-3.7.4.3\n"
     ]
    }
   ],
   "source": [
    "get_ipython().system('pip install tensorflow keras sklearn matplotlib pandas gtts playsound')\n",
    "from gtts import gTTS\n",
    "from playsound import playsound\n"
   ]
  },
  {
   "cell_type": "code",
   "execution_count": 2,
   "id": "faa6c6fa",
   "metadata": {},
   "outputs": [],
   "source": [
    "import numpy as np \n",
    "import pandas as pd \n",
    "import matplotlib.pyplot as plt\n",
    "import cv2\n",
    "import tensorflow as tf\n",
    "from PIL import Image\n",
    "import os\n",
    "from sklearn.model_selection import train_test_split\n",
    "from keras.utils.np_utils import to_categorical\n",
    "from keras.models import Sequential, load_model\n",
    "from keras.layers import Conv2D, MaxPool2D, Dense, Flatten, Dropout\n",
    "\n"
   ]
  },
  {
   "cell_type": "code",
   "execution_count": 3,
   "id": "defe6e41",
   "metadata": {},
   "outputs": [],
   "source": [
    "# loading dataset\n",
    "data = []\n",
    "labels = []\n",
    "classes = 43\n",
    "cur_path = os.chdir('d:\\miniproject')\n"
   ]
  },
  {
   "cell_type": "code",
   "execution_count": null,
   "id": "1994d46b",
   "metadata": {},
   "outputs": [],
   "source": [
    "for i in range(classes):\n",
    "    path = os.path.join('train',str(i))\n",
    "    images = os.listdir(path)\n",
    "    for a in images:\n",
    "        try:\n",
    "            image = Image.open(path + '\\\\'+ a)\n",
    "            image = image.resize((30,30))\n",
    "            image = np.array(image)\n",
    "            #sim = Image.fromarray(image)\n",
    "            data.append(image)\n",
    "            labels.append(i)\n",
    "        except:\n",
    "            print(\"Error loading image\")"
   ]
  },
  {
   "cell_type": "code",
   "execution_count": null,
   "id": "4f6a15be",
   "metadata": {},
   "outputs": [],
   "source": [
    "#Converting lists into numpy arrays\n",
    "data = np.array(data)\n",
    "labels = np.array(labels)\n",
    "print(data.shape, labels.shape)\n"
   ]
  },
  {
   "cell_type": "code",
   "execution_count": null,
   "id": "80a5dadf",
   "metadata": {},
   "outputs": [],
   "source": [
    "print(data.shape, labels.shape)\n",
    "#Splitting training and testing dataset\n",
    "X_train, X_test, y_train, y_test = train_test_split(data, labels, test_size=0.2, random_state=42)\n",
    "print(X_train.shape, X_test.shape, y_train.shape, y_test.shape)"
   ]
  },
  {
   "cell_type": "code",
   "execution_count": null,
   "id": "cd48d753",
   "metadata": {},
   "outputs": [],
   "source": [
    "#Converting the labels into one hot encoding\n",
    "y_train = to_categorical(y_train, 43)\n",
    "y_test = to_categorical(y_test, 43)\n"
   ]
  },
  {
   "cell_type": "code",
   "execution_count": null,
   "id": "4c3810a5",
   "metadata": {},
   "outputs": [],
   "source": [
    "y_train.shape, y_test.shape\n"
   ]
  },
  {
   "cell_type": "code",
   "execution_count": null,
   "id": "6469e0fd",
   "metadata": {},
   "outputs": [],
   "source": [
    "# Show Datasets in CSV Format\n",
    "train_data=pd.read_csv('D:\\miniproject\\\\Train.csv',usecols=['ClassId','Path','Width','Height'],)\n",
    "test_data=pd.read_csv('D:\\miniproject\\\\Test.csv',usecols=['ClassId','Path','Width','Height'],)\n"
   ]
  },
  {
   "cell_type": "code",
   "execution_count": null,
   "id": "841bf93e",
   "metadata": {},
   "outputs": [],
   "source": [
    "train_data.rename({'ClassId':'label','Path':'path'},inplace=True,axis=1)\n",
    "test_data.rename({'ClassId':'label','Path':'path'},inplace=True,axis=1)\n"
   ]
  },
  {
   "cell_type": "code",
   "execution_count": null,
   "id": "5cefb75f",
   "metadata": {},
   "outputs": [],
   "source": [
    "train_data.head()\n"
   ]
  },
  {
   "cell_type": "code",
   "execution_count": null,
   "id": "ae39cf95",
   "metadata": {},
   "outputs": [],
   "source": [
    "test_data.head()\n"
   ]
  },
  {
   "cell_type": "code",
   "execution_count": null,
   "id": "f2f09416",
   "metadata": {},
   "outputs": [],
   "source": [
    "print('NO. of classes')\n",
    "print(train_data['label'].nunique())"
   ]
  },
  {
   "cell_type": "code",
   "execution_count": null,
   "id": "45ded591",
   "metadata": {},
   "outputs": [],
   "source": [
    "# Let's Visualize the testing Data\n",
    "import random\n",
    "from matplotlib.image import imread\n",
    "data_dir= os.getcwd()\n",
    "imgs=test_data['path'].values\n",
    "plt.figure(figsize=(25,25))\n"
   ]
  },
  {
   "cell_type": "code",
   "execution_count": null,
   "id": "9ef0acf6",
   "metadata": {},
   "outputs": [],
   "source": [
    "for i in range(1,26):\n",
    "    plt.subplot(5,5,i)\n",
    "    random_image_path=data_dir+'/'+random.choice(imgs)\n",
    "    random_image=imread(random_image_path)\n",
    "    plt.imshow(random_image)\n",
    "    plt.grid(b=None)\n",
    "    plt.axis('off')\n",
    "    plt.xlabel(random_image.shape[0],fontsize=20)\n",
    "    plt.ylabel(random_image.shape[0],fontsize=20)\n",
    "\n"
   ]
  },
  {
   "cell_type": "code",
   "execution_count": null,
   "id": "cf7209bc",
   "metadata": {},
   "outputs": [],
   "source": [
    "#Building the model\n",
    "model = Sequential()\n"
   ]
  },
  {
   "cell_type": "code",
   "execution_count": null,
   "id": "13cb7d35",
   "metadata": {},
   "outputs": [],
   "source": [
    "# First Layer\n",
    "model.add(Conv2D(filters=32, kernel_size=(5,5), activation='relu', input_shape=X_train.shape[1:]))\n",
    "model.add(Conv2D(filters=32, kernel_size=(5,5), activation='relu'))\n",
    "model.add(MaxPool2D(pool_size=(2, 2)))\n",
    "model.add(Dropout(rate=0.25))\n"
   ]
  },
  {
   "cell_type": "code",
   "execution_count": null,
   "id": "b59d8726",
   "metadata": {},
   "outputs": [],
   "source": [
    "# Second Layer \n",
    "model.add(Conv2D(filters=64, kernel_size=(3, 3), activation='relu'))\n",
    "model.add(Conv2D(filters=64, kernel_size=(3, 3), activation='relu'))\n",
    "model.add(MaxPool2D(pool_size=(2, 2)))\n",
    "model.add(Dropout(rate=0.25))\n"
   ]
  },
  {
   "cell_type": "code",
   "execution_count": null,
   "id": "3361fd09",
   "metadata": {},
   "outputs": [],
   "source": [
    "# Dense Layer\n",
    "model.add(Flatten())\n",
    "model.add(Dense(256, activation='relu'))\n",
    "model.add(Dropout(rate=0.5))\n",
    "model.add(Dense(43, activation='softmax'))\n"
   ]
  },
  {
   "cell_type": "code",
   "execution_count": null,
   "id": "c0062e9b",
   "metadata": {},
   "outputs": [],
   "source": [
    "model.summary()\n"
   ]
  },
  {
   "cell_type": "code",
   "execution_count": null,
   "id": "f308fc49",
   "metadata": {},
   "outputs": [],
   "source": [
    "get_ipython().system('pip install visualkeras')\n",
    "import visualkeras\n"
   ]
  },
  {
   "cell_type": "code",
   "execution_count": null,
   "id": "7b35bfdb",
   "metadata": {},
   "outputs": [],
   "source": [
    "visualkeras.layered_view(model)\n"
   ]
  },
  {
   "cell_type": "code",
   "execution_count": null,
   "id": "ba44d65e",
   "metadata": {},
   "outputs": [],
   "source": [
    "# Train and validate the model\n",
    "\n",
    "#Compilation of the model\n",
    "model.compile(loss='categorical_crossentropy', optimizer='adam', metrics=['accuracy'])\n",
    "epochs = 5\n",
    "history = model.fit(X_train, y_train, batch_size=64, epochs=epochs, validation_data=(X_test, y_test))\n",
    "model.save(\"my_model.h5\")\n",
    "\n"
   ]
  },
  {
   "cell_type": "code",
   "execution_count": null,
   "id": "e1d7681b",
   "metadata": {},
   "outputs": [],
   "source": [
    "#plotting graphs for accuracy \n",
    "plt.plot(history.history['accuracy'], label='training accuracy')\n",
    "plt.plot(history.history['val_accuracy'], label='val accuracy')\n",
    "plt.title('Accuracy')\n",
    "plt.xlabel('epochs')\n",
    "plt.ylabel('accuracy')\n",
    "plt.legend()\n",
    "plt.show()\n"
   ]
  },
  {
   "cell_type": "code",
   "execution_count": null,
   "id": "4cead350",
   "metadata": {},
   "outputs": [],
   "source": [
    "plt.plot(history.history['loss'], label='training loss')\n",
    "plt.plot(history.history['val_loss'], label='val loss')\n",
    "plt.title('Loss')\n",
    "plt.xlabel('epochs')\n",
    "plt.ylabel('loss')\n",
    "plt.legend()\n",
    "plt.show()\n"
   ]
  },
  {
   "cell_type": "code",
   "execution_count": null,
   "id": "11daa90d",
   "metadata": {},
   "outputs": [],
   "source": [
    "# Evaluation\n",
    "# Score\n",
    "score = model.evaluate(X_test, y_test, verbose=0)\n",
    "print('Test Loss', score[0])\n",
    "print('Test accuracy', score[1])\n"
   ]
  },
  {
   "cell_type": "code",
   "execution_count": null,
   "id": "d5da8df4",
   "metadata": {},
   "outputs": [],
   "source": [
    "y_pred = model.predict(X_test)\n",
    "y_test_class = np.argmax(y_test,axis=1)\n",
    "y_pred_class = np.argmax(y_pred,axis=1)\n"
   ]
  },
  {
   "cell_type": "code",
   "execution_count": null,
   "id": "627c4126",
   "metadata": {},
   "outputs": [],
   "source": [
    "from sklearn.metrics import classification_report\n",
    "from sklearn.metrics import classification_report,confusion_matrix\n",
    "print(classification_report(y_test_class,y_pred_class))\n",
    "print(confusion_matrix(y_test_class,y_pred_class))\n"
   ]
  },
  {
   "cell_type": "code",
   "execution_count": null,
   "id": "08cc572a",
   "metadata": {},
   "outputs": [],
   "source": [
    "# Making the Confusion Matrix\n",
    "from sklearn.metrics import confusion_matrix\n",
    "cm = confusion_matrix(y_test_class, y_pred_class)\n",
    "import seaborn as sns\n",
    "sns.heatmap(cm,annot=True)\n",
    "plt.savefig('h1.png')\n"
   ]
  },
  {
   "cell_type": "code",
   "execution_count": null,
   "id": "8504839c",
   "metadata": {},
   "outputs": [],
   "source": [
    "# Calculate the Accuracy\n",
    "from sklearn.metrics import accuracy_score\n",
    "score=accuracy_score(y_pred_class,y_test_class)\n",
    "score\n",
    "\n"
   ]
  },
  {
   "cell_type": "code",
   "execution_count": null,
   "id": "7707767f",
   "metadata": {},
   "outputs": [],
   "source": [
    "model.save('traffic_classifier.h5')\n"
   ]
  },
  {
   "cell_type": "code",
   "execution_count": null,
   "id": "ab67d8fa",
   "metadata": {},
   "outputs": [],
   "source": [
    "import tkinter as tk\n",
    "from tkinter import filedialog\n",
    "from tkinter import *\n",
    "from PIL import ImageTk, Image\n",
    "import numpy\n",
    "#load the trained model to classify sign\n",
    "from keras.models import load_model\n",
    "model = load_model('traffic_classifier.h5')\n"
   ]
  },
  {
   "cell_type": "code",
   "execution_count": null,
   "id": "f8d54c2a",
   "metadata": {},
   "outputs": [],
   "source": [
    "#dictionary to label all traffic signs class.\n",
    "classes = { 1:'Speed limit (20km/h)',\n",
    "            2:'Speed limit (30km/h)', \n",
    "            3:'Speed limit (50km/h)', \n",
    "            4:'Speed limit (60km/h)', \n",
    "            5:'Speed limit (70km/h)', \n",
    "            6:'Speed limit (80km/h)', \n",
    "            7:'End of speed limit (80km/h)', \n",
    "            8:'Speed limit (100km/h)', \n",
    "            9:'Speed limit (120km/h)', \n",
    "            10:'No passing', \n",
    "            11:'No passing veh over 3.5 tons', \n",
    "            12:'Right-of-way at intersection', \n",
    "            13:'Priority road', \n",
    "            14:'Yield', \n",
    "            15:'Stop', \n",
    "            16:'No vehicles', \n",
    "            17:'Veh > 3.5 tons prohibited', \n",
    "            18:'No entry', \n",
    "            19:'General caution', \n",
    "            20:'Dangerous curve left', \n",
    "            21:'Dangerous curve right', \n",
    "            22:'Double curve', \n",
    "            23:'Bumpy road', \n",
    "            24:'Slippery road', \n",
    "            25:'Road narrows on the right', \n",
    "            26:'Road work', \n",
    "            27:'Traffic signals', \n",
    "            28:'Pedestrians', \n",
    "            29:'Children crossing', \n",
    "            30:'Bicycles crossing', \n",
    "            31:'Beware of ice/snow',\n",
    "            32:'Wild animals crossing', \n",
    "            33:'End speed + passing limits', \n",
    "            34:'Turn right ahead', \n",
    "            35:'Turn left ahead', \n",
    "            36:'Ahead only', \n",
    "            37:'Go straight or right', \n",
    "            38:'Go straight or left', \n",
    "            39:'Keep right', \n",
    "            40:'Keep left', \n",
    "            41:'Roundabout mandatory', \n",
    "            42:'End of no passing', \n",
    "            43:'End no passing veh > 3.5 tons' }\n",
    "\n"
   ]
  },
  {
   "cell_type": "code",
   "execution_count": null,
   "id": "29f7b053",
   "metadata": {},
   "outputs": [],
   "source": [
    "#initialise GUI\n",
    "import \n",
    "top=tk.Tk()\n",
    "top.geometry('800x600')\n",
    "top.title('TRAFFIC SIGN CLASSIFICATION')\n",
    "top.configure(background='#A2E1DB')\n",
    "label=Label(top,background='#000000', font=('arial',15,'bold'))\n",
    "sign_image = Label(top)\n",
    "def classify(file_path):\n",
    "    global label_packed\n",
    "    image = Image.open(file_path)\n",
    "    image = image.resize((30,30))\n",
    "    image = numpy.expand_dims(image, axis=0)\n",
    "    image = numpy.array(image)\n",
    "    pred = model.predict(image)\n",
    "    classes_x = numpy.argmax(pred,axis=1)\n",
    "    sign = classes[int(classes_x)+1]\n",
    "    sound=gTTS(text=sign,lang='en')\n",
    "    print(sign)\n",
    "    sound.save(\"sign.mp3\")\n",
    "    playsound(\"sign.mp3\")\n",
    "    label.configure(foreground='#FFF0F5', text=sign) \n",
    "def show_classify_button(file_path):\n",
    "    classify_b=Button(top,text=\"Classify Image\",command=lambda: classify(file_path),padx=10,pady=5)\n",
    "    classify_b.configure(background='#FFF0F5', foreground='#000000',font=('arial',10))\n",
    "    classify_b.place(relx=0.79,rely=0.46)\n",
    "def upload_image():\n",
    "    try:\n",
    "        file_path=filedialog.askopenfilename()\n",
    "        uploaded=Image.open(file_path)\n",
    "        uploaded.thumbnail(((top.winfo_width()/2.25),(top.winfo_height()/2.25)))\n",
    "        im=ImageTk.PhotoImage(uploaded)\n",
    "        sign_image.configure(image=im)\n",
    "        sign_image.image=im\n",
    "        label.configure(text='')\n",
    "        show_classify_button(file_path)\n",
    "    except:\n",
    "        pass\n",
    "upload=Button(top,text=\"Upload an image\",command=upload_image,padx=10,pady=5)\n",
    "upload.configure(background='#E3AFBC', foreground='#000000',font=('caslon',20,'bold'))\n",
    "upload.pack(side=BOTTOM,pady=50)\n",
    "sign_image.pack(side=BOTTOM,expand=True)\n",
    "label.pack(side=BOTTOM,expand=True)\n",
    "heading = Label(top, text=\"Know Your Traffic Sign\",pady=20, font=('Caslon',20,'bold'))\n",
    "heading.configure(background='#A2E1DB',foreground='#000000')\n",
    "heading.pack()\n",
    "top.mainloop()"
   ]
  },
  {
   "cell_type": "code",
   "execution_count": null,
   "id": "897fa78b",
   "metadata": {},
   "outputs": [],
   "source": []
  }
 ],
 "metadata": {
  "kernelspec": {
   "display_name": "Python 3",
   "language": "python",
   "name": "python3"
  },
  "language_info": {
   "codemirror_mode": {
    "name": "ipython",
    "version": 3
   },
   "file_extension": ".py",
   "mimetype": "text/x-python",
   "name": "python",
   "nbconvert_exporter": "python",
   "pygments_lexer": "ipython3",
   "version": "3.8.8"
  }
 },
 "nbformat": 4,
 "nbformat_minor": 5
}
